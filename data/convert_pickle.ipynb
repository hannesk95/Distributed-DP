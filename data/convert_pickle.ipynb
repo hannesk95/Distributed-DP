{
 "cells": [
  {
   "cell_type": "code",
   "execution_count": 25,
   "metadata": {},
   "outputs": [],
   "source": [
    "import numpy as np\n",
    "import pickle\n",
    "import os"
   ]
  },
  {
   "cell_type": "code",
   "execution_count": 30,
   "metadata": {},
   "outputs": [
    {
     "name": "stdout",
     "output_type": "stream",
     "text": [
      "C:\\Users\\Johan\\Documents\\GIT\\HPC-Project\\data\\data_debug\n",
      "C:\\Users\\Johan\\Documents\\GIT\\HPC-Project\\data\\data_small\n"
     ]
    }
   ],
   "source": [
    "for name in os.listdir(os.getcwd()):\n",
    "    if os.path.isdir(os.path.join(cwd, name)):\n",
    "        path = os.path.join(cwd, name)  \n",
    "        \n",
    "        with open(path + \"\\parameters.pickle\", \"rb\") as the_file:\n",
    "            parameters = pickle.load(the_file)\n",
    "            \n",
    "        np.savez(path + \"\\parameters.npz\", **parameters)\n",
    "        "
   ]
  },
  {
   "cell_type": "code",
   "execution_count": null,
   "metadata": {},
   "outputs": [],
   "source": []
  }
 ],
 "metadata": {
  "kernelspec": {
   "display_name": "Python 3",
   "language": "python",
   "name": "python3"
  },
  "language_info": {
   "codemirror_mode": {
    "name": "ipython",
    "version": 3
   },
   "file_extension": ".py",
   "mimetype": "text/x-python",
   "name": "python",
   "nbconvert_exporter": "python",
   "pygments_lexer": "ipython3",
   "version": "3.8.5"
  }
 },
 "nbformat": 4,
 "nbformat_minor": 4
}
