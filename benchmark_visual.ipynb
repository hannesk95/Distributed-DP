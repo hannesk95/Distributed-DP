{
 "cells": [
  {
   "cell_type": "code",
   "execution_count": 1,
   "metadata": {},
   "outputs": [],
   "source": [
    "import os\n",
    "import glob\n",
    "import numpy as np\n",
    "import matplotlib.pyplot as plt\n",
    "import seaborn as sns\n",
    "%matplotlib inline\n",
    "import matplotlib.pyplot as plt\n",
    "plt.style.use('seaborn-whitegrid')\n",
    "import numpy as np"
   ]
  },
  {
   "cell_type": "code",
   "execution_count": 2,
   "metadata": {},
   "outputs": [],
   "source": [
    "def load_data(path):\n",
    "\n",
    "    database = {}\n",
    "    filenames = glob.glob(os.path.join(path, \"*.npz\"))\n",
    "\n",
    "    for file in filenames:\n",
    "        data = np.load(file)\n",
    "        key = file.split(\"/\")[-1]\n",
    "        key = key.split(\".\")[0]\n",
    "        key = key.split(\"\\\\\")[-1]\n",
    "        key = key.split(\"_\")[-1]\n",
    "        database[key] = {}\n",
    "\n",
    "        for count, properties in enumerate(data.files):\n",
    "            value = data[properties].astype(float)\n",
    "            database[key][properties] = value\n",
    "\n",
    "    return database"
   ]
  },
  {
   "cell_type": "code",
   "execution_count": 125,
   "metadata": {},
   "outputs": [],
   "source": [
    "def plot_benchmark(data):\n",
    "    \n",
    "    \n",
    "#     labels = list(data.keys())\n",
    "#     labels_new = []\n",
    "#     exec_times = []\n",
    "#     comm_freq = []\n",
    "   \n",
    "    \n",
    "#     for scheme in labels:\n",
    "#         exec_times.append(data[str(scheme)]['mean_execution_time'][0])    \n",
    "    \n",
    "#     for name in labels:\n",
    "#         if any(x in name for x in [\"Local\", \"local\"]):\n",
    "#             continue\n",
    "#         comm_freq.append(name.split(\"-\")[-1])\n",
    "#         labels_new.append(name.split(\"-\")[0])\n",
    "        \n",
    "#     comm_freq = np.array(comm_freq)\n",
    "#     comm_freq = np.unique(comm_freq)\n",
    "#     labels_new = np.array(labels_new)\n",
    "#     labels_new = np.unique(labels_new)    \n",
    "    \n",
    "    #############################################################\n",
    "    times = {}\n",
    "    comm = []\n",
    "    labels = []\n",
    "    \n",
    "    for label in list(data.keys()):\n",
    "        result = label.split(\"-\")\n",
    "        \n",
    "        \n",
    "        if any(x in label for x in [\"Local\", \"local\"]):\n",
    "            continue\n",
    "        else:                \n",
    "            comm.append(result[-1])\n",
    "            times[result[0]] = {}\n",
    "    \n",
    "    comm = np.array(comm)\n",
    "    comm = list(np.unique(comm))\n",
    "    labels = list(times.keys())\n",
    "    \n",
    "    \n",
    "    for label in list(data.keys()):\n",
    "        scheme = label.split(\"-\")[0]\n",
    "        freq = label.split(\"-\")[-1]\n",
    "        \n",
    "        if(scheme == freq):\n",
    "            #times[scheme] = data[label]['mean_execution_time'][0]\n",
    "            continue\n",
    "        \n",
    "        times[scheme][freq] = data[label]['mean_execution_time'][0]\n",
    "        \n",
    "    \n",
    "#     scheme1 = []\n",
    "#     scheme2 = []\n",
    "    \n",
    "#     for scheme in labels:\n",
    "#         if(scheme == '01'):\n",
    "#             scheme1 = list(times[scheme].values())\n",
    "#         if(scheme == '02'):\n",
    "#             scheme2 = list(times[scheme].values())\n",
    "        \n",
    "    \n",
    "    \n",
    "#     print(scheme1)\n",
    "#     print(scheme2)\n",
    "#     print(times)\n",
    "#     print(comm)\n",
    "#     print(labels)   \n",
    "  \n",
    "    \n",
    "    x = np.arange(len(labels))\n",
    "    width = 0.1\n",
    "    \n",
    "    fig, axs = plt.subplots(2, 2)\n",
    "    \n",
    "    axs[0, 0].bar(np.arange(len(comm)), times['01'].values(), align='center')\n",
    "    axs[0, 0].set_title('Scheme1')\n",
    "    \n",
    "    axs[0, 1].bar(np.arange(len(comm)), times['02'].values(), align='center')\n",
    "    axs[0, 1].set_title('Scheme2')\n",
    "    \n",
    "    \n",
    "    #ax.bar(x - width/2, scheme1[0], width, label=\"test\")\n",
    "    #ax[0, 0].bar(np.arange(len(scheme1)), scheme1, align='center')\n",
    "    #ax[0, 1].bar(np.arange(len(scheme2)), scheme2, align='center')\n",
    "    #rects1 = ax.bar(x - width/len(comm), scheme1, width, label=\"Comm-Freq: \" + comm[0])\n",
    "    #rects2 = ax.bar(x + width/len(comm), scheme2, width, label=\"Comm-Freq: \" + comm[1])\n",
    "    #rects3 = ax.bar(x + width/len(comm), men_means, width, label=\"Comm-Freq: \" + comm[2])\n",
    "    #rects4 = ax.bar(x + width/(len(comm)/2), men_means, width, label=\"Comm-Freq: \" + comm[3])   \n",
    "    \n",
    "#     ax.set_ylabel('Mean Execution Time')\n",
    "#     ax.set_title('Performance Evaluation among Communiation Schemes')\n",
    "#     ax.set_xticks(np.arange(len(comm)))\n",
    "#     ax.set_xticklabels(comm)\n",
    "#     ax.set_xlabel('Communiation Frequency')\n",
    "#     ax.legend()\n",
    "    \n",
    "    fig.tight_layout()\n",
    "    plt.show()    "
   ]
  },
  {
   "cell_type": "markdown",
   "metadata": {},
   "source": [
    "### Main"
   ]
  },
  {
   "cell_type": "code",
   "execution_count": 126,
   "metadata": {},
   "outputs": [
    {
     "ename": "AttributeError",
     "evalue": "'numpy.ndarray' object has no attribute 'set_ylabel'",
     "output_type": "error",
     "traceback": [
      "\u001b[1;31m---------------------------------------------------------------------------\u001b[0m",
      "\u001b[1;31mAttributeError\u001b[0m                            Traceback (most recent call last)",
      "\u001b[1;32m<ipython-input-126-5ed1cf0b1bd0>\u001b[0m in \u001b[0;36m<module>\u001b[1;34m\u001b[0m\n\u001b[0;32m      3\u001b[0m \u001b[0mdata\u001b[0m \u001b[1;33m=\u001b[0m \u001b[0mload_data\u001b[0m\u001b[1;33m(\u001b[0m\u001b[0mos\u001b[0m\u001b[1;33m.\u001b[0m\u001b[0mpath\u001b[0m\u001b[1;33m.\u001b[0m\u001b[0mjoin\u001b[0m\u001b[1;33m(\u001b[0m\u001b[0mos\u001b[0m\u001b[1;33m.\u001b[0m\u001b[0mgetcwd\u001b[0m\u001b[1;33m(\u001b[0m\u001b[1;33m)\u001b[0m\u001b[1;33m,\u001b[0m \u001b[0mresult_dir\u001b[0m\u001b[1;33m)\u001b[0m\u001b[1;33m)\u001b[0m\u001b[1;33m\u001b[0m\u001b[1;33m\u001b[0m\u001b[0m\n\u001b[0;32m      4\u001b[0m \u001b[1;33m\u001b[0m\u001b[0m\n\u001b[1;32m----> 5\u001b[1;33m \u001b[0mplot_benchmark\u001b[0m\u001b[1;33m(\u001b[0m\u001b[0mdata\u001b[0m\u001b[1;33m)\u001b[0m\u001b[1;33m\u001b[0m\u001b[1;33m\u001b[0m\u001b[0m\n\u001b[0m",
      "\u001b[1;32m<ipython-input-125-d56a34cc645c>\u001b[0m in \u001b[0;36mplot_benchmark\u001b[1;34m(data)\u001b[0m\n\u001b[0;32m     91\u001b[0m     \u001b[1;31m#rects4 = ax.bar(x + width/(len(comm)/2), men_means, width, label=\"Comm-Freq: \" + comm[3])\u001b[0m\u001b[1;33m\u001b[0m\u001b[1;33m\u001b[0m\u001b[1;33m\u001b[0m\u001b[0m\n\u001b[0;32m     92\u001b[0m \u001b[1;33m\u001b[0m\u001b[0m\n\u001b[1;32m---> 93\u001b[1;33m     \u001b[0maxs\u001b[0m\u001b[1;33m.\u001b[0m\u001b[0mset_ylabel\u001b[0m\u001b[1;33m(\u001b[0m\u001b[1;34m'Mean Execution Time'\u001b[0m\u001b[1;33m)\u001b[0m\u001b[1;33m\u001b[0m\u001b[1;33m\u001b[0m\u001b[0m\n\u001b[0m\u001b[0;32m     94\u001b[0m     \u001b[0maxs\u001b[0m\u001b[1;33m.\u001b[0m\u001b[0mset_title\u001b[0m\u001b[1;33m(\u001b[0m\u001b[1;34m'Performance Evaluation among Communiation Schemes'\u001b[0m\u001b[1;33m)\u001b[0m\u001b[1;33m\u001b[0m\u001b[1;33m\u001b[0m\u001b[0m\n\u001b[0;32m     95\u001b[0m \u001b[1;31m#     ax.set_xticks(np.arange(len(comm)))\u001b[0m\u001b[1;33m\u001b[0m\u001b[1;33m\u001b[0m\u001b[1;33m\u001b[0m\u001b[0m\n",
      "\u001b[1;31mAttributeError\u001b[0m: 'numpy.ndarray' object has no attribute 'set_ylabel'"
     ]
    },
    {
     "data": {
      "image/png": "[encoded data removed]",
      "text/plain": [
       "<Figure size 432x288 with 4 Axes>"
      ]
     },
     "metadata": {},
     "output_type": "display_data"
    }
   ],
   "source": [
    "result_dir = \"results\"\n",
    "\n",
    "data = load_data(os.path.join(os.getcwd(), result_dir))\n",
    "\n",
    "plot_benchmark(data)"
   ]
  },
  {
   "cell_type": "code",
   "execution_count": 124,
   "metadata": {},
   "outputs": [
    {
     "name": "stdout",
     "output_type": "stream",
     "text": [
      "yes\n"
     ]
    }
   ],
   "source": [
    "if [\"Local\"] in list(data.keys())[0]:\n",
    "    print(\"yes\")"
   ]
  },
  {
   "cell_type": "code",
   "execution_count": 97,
   "metadata": {},
   "outputs": [],
   "source": [
    "labels = list(data.keys())"
   ]
  },
  {
   "cell_type": "code",
   "execution_count": 98,
   "metadata": {},
   "outputs": [
    {
     "data": {
      "text/plain": [
       "['Local',\n",
       " '01-10',\n",
       " '01-100',\n",
       " '01-50',\n",
       " '01-500',\n",
       " '02-10',\n",
       " '02-100',\n",
       " '02-50',\n",
       " '02-500']"
      ]
     },
     "execution_count": 98,
     "metadata": {},
     "output_type": "execute_result"
    }
   ],
   "source": [
    "labels"
   ]
  },
  {
   "cell_type": "code",
   "execution_count": 79,
   "metadata": {},
   "outputs": [
    {
     "data": {
      "text/plain": [
       "10"
      ]
     },
     "execution_count": 79,
     "metadata": {},
     "output_type": "execute_result"
    }
   ],
   "source": [
    "name = '10'\n",
    "name.split(\".\")\n",
    "int(name)"
   ]
  },
  {
   "cell_type": "code",
   "execution_count": 65,
   "metadata": {},
   "outputs": [],
   "source": [
    "number = data['Local']['mean_execution_time'].astype(float)"
   ]
  },
  {
   "cell_type": "code",
   "execution_count": 66,
   "metadata": {},
   "outputs": [
    {
     "data": {
      "text/plain": [
       "array([0.16875911])"
      ]
     },
     "execution_count": 66,
     "metadata": {},
     "output_type": "execute_result"
    }
   ],
   "source": [
    "number"
   ]
  },
  {
   "cell_type": "code",
   "execution_count": 67,
   "metadata": {},
   "outputs": [],
   "source": [
    "number = number.astype(float)"
   ]
  },
  {
   "cell_type": "code",
   "execution_count": 68,
   "metadata": {},
   "outputs": [
    {
     "data": {
      "text/plain": [
       "array([0.16875911])"
      ]
     },
     "execution_count": 68,
     "metadata": {},
     "output_type": "execute_result"
    }
   ],
   "source": [
    "number"
   ]
  },
  {
   "cell_type": "code",
   "execution_count": 69,
   "metadata": {},
   "outputs": [
    {
     "data": {
      "text/plain": [
       "0.16875910758972168"
      ]
     },
     "execution_count": 69,
     "metadata": {},
     "output_type": "execute_result"
    }
   ],
   "source": [
    "number[0]"
   ]
  },
  {
   "cell_type": "code",
   "execution_count": 33,
   "metadata": {},
   "outputs": [
    {
     "data": {
      "text/plain": [
       "{'Local': {'mean_execution_time': array([0.16875911]),\n",
       "  'MSE_J': array([0.08246649]),\n",
       "  'errors_Pi': array([0.])},\n",
       " '01-10': {'mean_execution_time': array([0.1222264]),\n",
       "  'MSE_J': array([0.08246649]),\n",
       "  'errors_Pi': array([0.])},\n",
       " '01-100': {'mean_execution_time': array([0.30982929]),\n",
       "  'MSE_J': array([0.08246649]),\n",
       "  'errors_Pi': array([0.])},\n",
       " '01-50': {'mean_execution_time': array([0.1785156]),\n",
       "  'MSE_J': array([0.08246649]),\n",
       "  'errors_Pi': array([0.])},\n",
       " '01-500': {'mean_execution_time': array([1.32828748]),\n",
       "  'MSE_J': array([0.08246649]),\n",
       "  'errors_Pi': array([0.])},\n",
       " '02-10': {'mean_execution_time': array([0.12778369]),\n",
       "  'MSE_J': array([0.08246649]),\n",
       "  'errors_Pi': array([0.])},\n",
       " '02-100': {'mean_execution_time': array([0.31142679]),\n",
       "  'MSE_J': array([0.08246649]),\n",
       "  'errors_Pi': array([0.])},\n",
       " '02-50': {'mean_execution_time': array([0.1807463]),\n",
       "  'MSE_J': array([0.08246649]),\n",
       "  'errors_Pi': array([0.])},\n",
       " '02-500': {'mean_execution_time': array([1.32929325]),\n",
       "  'MSE_J': array([0.08246649]),\n",
       "  'errors_Pi': array([0.])}}"
      ]
     },
     "execution_count": 33,
     "metadata": {},
     "output_type": "execute_result"
    }
   ],
   "source": [
    "data"
   ]
  },
  {
   "cell_type": "code",
   "execution_count": 69,
   "metadata": {},
   "outputs": [
    {
     "data": {
      "text/plain": [
       "array([0, 1, 2, 3])"
      ]
     },
     "execution_count": 69,
     "metadata": {},
     "output_type": "execute_result"
    }
   ],
   "source": [
    "np.arange(4)"
   ]
  },
  {
   "cell_type": "code",
   "execution_count": null,
   "metadata": {},
   "outputs": [],
   "source": []
  }
 ],
 "metadata": {
  "kernelspec": {
   "display_name": "Python 3",
   "language": "python",
   "name": "python3"
  },
  "language_info": {
   "codemirror_mode": {
    "name": "ipython",
    "version": 3
   },
   "file_extension": ".py",
   "mimetype": "text/x-python",
   "name": "python",
   "nbconvert_exporter": "python",
   "pygments_lexer": "ipython3",
   "version": "3.8.5"
  }
 },
 "nbformat": 4,
 "nbformat_minor": 4
}
